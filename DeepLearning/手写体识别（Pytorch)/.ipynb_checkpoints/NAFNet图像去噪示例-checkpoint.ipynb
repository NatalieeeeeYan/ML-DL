{
 "cells": [
  {
   "cell_type": "code",
   "execution_count": 1,
   "id": "030326be-8218-490a-959a-580d0c23ebd0",
   "metadata": {
    "scrolled": true
   },
   "outputs": [
    {
     "name": "stderr",
     "output_type": "stream",
     "text": [
      "2023-09-05 15:13:50,642 - modelscope - INFO - PyTorch version 1.13.1+cpu Found.\n",
      "2023-09-05 15:13:50,657 - modelscope - INFO - TensorFlow version 2.10.1 Found.\n",
      "2023-09-05 15:13:50,658 - modelscope - INFO - Loading ast index from C:\\Users\\PC\\.cache\\modelscope\\ast_indexer\n",
      "2023-09-05 15:13:51,529 - modelscope - INFO - Loading done! Current index file version is 1.5.2, with md5 de710d4261f7f85a8c250fcd812a1036 and a total number of 860 components indexed\n",
      "2023-09-05 15:13:55,637 - modelscope - INFO - Model revision not specified, use the latest revision: v1.0.0\n",
      "2023-09-05 15:13:59,024 - modelscope - INFO - initiate model from C:\\Users\\PC\\.cache\\modelscope\\hub\\damo\\cv_nafnet_image-denoise_sidd\n",
      "2023-09-05 15:13:59,025 - modelscope - INFO - initiate model from location C:\\Users\\PC\\.cache\\modelscope\\hub\\damo\\cv_nafnet_image-denoise_sidd.\n",
      "2023-09-05 15:13:59,032 - modelscope - INFO - initialize model from C:\\Users\\PC\\.cache\\modelscope\\hub\\damo\\cv_nafnet_image-denoise_sidd\n",
      "2023-09-05 15:14:01,603 - modelscope - INFO - Loading NAFNet model from C:\\Users\\PC\\.cache\\modelscope\\hub\\damo\\cv_nafnet_image-denoise_sidd\\pytorch_model.pt, with param key: [params].\n",
      "2023-09-05 15:14:01,809 - modelscope - INFO - load model done.\n",
      "2023-09-05 15:14:01,850 - modelscope - INFO - cuda is not available, using cpu instead.\n",
      "2023-09-05 15:14:01,852 - modelscope - INFO - load image denoise model done\n"
     ]
    },
    {
     "data": {
      "text/plain": [
       "True"
      ]
     },
     "execution_count": 1,
     "metadata": {},
     "output_type": "execute_result"
    }
   ],
   "source": [
    "from modelscope.pipelines import pipeline\n",
    "from modelscope.utils.constant import Tasks\n",
    "from modelscope.outputs import OutputKeys\n",
    "import cv2\n",
    "\n",
    "img = 'https://modelscope.oss-cn-beijing.aliyuncs.com/test/images/noisy-demo-0.png'\n",
    "image_denoise_pipeline = pipeline(Tasks.image_denoising, 'damo/cv_nafnet_image-denoise_sidd')\n",
    "result = image_denoise_pipeline(img)[OutputKeys.OUTPUT_IMG]\n",
    "cv2.imwrite('0421_result.png', result)"
   ]
  },
  {
   "cell_type": "code",
   "execution_count": null,
   "id": "986228c4",
   "metadata": {},
   "outputs": [],
   "source": [
    "训练下面的代码是做。。。。"
   ]
  },
  {
   "cell_type": "code",
   "execution_count": null,
   "id": "8547cba4-05dd-4c46-9966-a01930ce4d49",
   "metadata": {},
   "outputs": [
    {
     "name": "stderr",
     "output_type": "stream",
     "text": [
      "2023-04-29 18:31:16,178 - modelscope - WARNING - The reference has been Deprecated in modelscope v1.4.0+, please use `from modelscope.msdatasets.dataset_cls.custom_datasets import SiddImageDenoisingDataset`\n",
      "2023-04-29 18:31:16,425 - modelscope - INFO - Model revision not specified, use the latest revision: v1.0.0\n",
      "Downloading: 100%|█████████████████████████████████████████████████████████████████| 12.2M/12.2M [00:31<00:00, 410kB/s]\n",
      "Downloading: 100%|████████████████████████████████████████████████████████████████| 12.2M/12.2M [00:04<00:00, 3.03MB/s]\n",
      "Downloading: 100%|█████████████████████████████████████████████████████████████████| 26.2M/26.2M [01:09<00:00, 393kB/s]\n",
      "Downloading: 100%|████████████████████████████████████████████████████████████████| 26.2M/26.2M [00:09<00:00, 3.02MB/s]\n",
      "Downloading: 100%|█████████████████████████████████████████████████████████████████| 12.7M/12.7M [00:34<00:00, 385kB/s]\n",
      "Downloading: 100%|█████████████████████████████████████████████████████████████████| 12.6M/12.6M [00:35<00:00, 367kB/s]\n",
      "Downloading: 100%|█████████████████████████████████████████████████████████████████| 25.1M/25.1M [01:17<00:00, 339kB/s]\n",
      "Downloading: 100%|████████████████████████████████████████████████████████████████| 25.1M/25.1M [00:10<00:00, 2.61MB/s]\n",
      "Downloading: 100%|█████████████████████████████████████████████████████████████████| 16.6M/16.6M [00:58<00:00, 298kB/s]\n",
      "Downloading: 100%|█████████████████████████████████████████████████████████████████| 16.5M/16.5M [01:01<00:00, 281kB/s]\n",
      "Downloading: 100%|█████████████████████████████████████████████████████████████████| 24.6M/24.6M [01:32<00:00, 279kB/s]\n",
      "Downloading: 100%|█████████████████████████████████████████████████████████████████| 24.6M/24.6M [01:45<00:00, 244kB/s]\n",
      "Downloading: 100%|████████████████████████████████████████████████████████████████| 12.8M/12.8M [00:03<00:00, 3.49MB/s]\n",
      "Downloading: 100%|████████████████████████████████████████████████████████████████| 12.4M/12.4M [00:06<00:00, 1.96MB/s]\n",
      "Downloading: 100%|████████████████████████████████████████████████████████████████| 25.4M/25.4M [00:09<00:00, 2.88MB/s]\n",
      "Downloading: 100%|████████████████████████████████████████████████████████████████| 25.4M/25.4M [00:12<00:00, 2.11MB/s]\n",
      "Downloading: 100%|████████████████████████████████████████████████████████████████| 1.76k/1.76k [00:00<00:00, 1.87MB/s]\n",
      "Downloading: 100%|██████████████████████████████████████████████████████████████████| 740k/740k [00:00<00:00, 1.97MB/s]\n",
      "Downloading: 100%|███████████████████████████████████████████████████████████████████| 117k/117k [00:00<00:00, 337kB/s]\n",
      "Downloading: 100%|██████████████████████████████████████████████████████████████████| 167k/167k [00:00<00:00, 1.30MB/s]\n",
      "Downloading: 100%|███████████████████████████████████████████████████████████████████| 146k/146k [00:00<00:00, 558kB/s]\n",
      "Downloading: 100%|██████████████████████████████████████████████████████████████████| 111M/111M [00:38<00:00, 3.01MB/s]\n",
      "Downloading: 100%|████████████████████████████████████████████████████████████████| 6.50k/6.50k [00:00<00:00, 3.34MB/s]\n"
     ]
    },
    {
     "name": "stdout",
     "output_type": "stream",
     "text": [
      "Config (path: original\\damo\\cv_nafnet_image-denoise_sidd\\configuration.json): {'framework': 'pytorch', 'task': 'image-denoising', 'pipeline': {'type': 'nafnet-image-denoise'}, 'model': {'type': 'nafnet', 'network_g': {'img_channel': 3, 'width': 32, 'middle_blk_num': 12, 'enc_blk_nums': [2, 2, 4, 8], 'dec_blk_nums': [2, 2, 2, 2]}}, 'dataset': {'name': 'SIDD', 'type': 'PairedImageDataset', 'dataroot_gt': 'data/SIDD_example/', 'dataroot_lq': 'data/SIDD_example/', 'filename_tmpl': '{}', 'scale': 1, 'gt_size': 256, 'use_flip': False, 'use_rot': False}, 'preprocessor': {'type': 'image-denoise-preprocessor'}, 'train': {'dataloader': {'batch_size_per_gpu': 4, 'workers_per_gpu': 4, 'shuffle': True}, 'optimizer': {'type': 'AdamW', 'lr': 1e-05, 'weight_decay': 0, 'betas': [0.9, 0.9]}, 'lr_scheduler': {'type': 'CosineAnnealingLR', 'T_max': 200000, 'eta_min': 1e-07}, 'max_epochs': 2, 'hooks': [{'type': 'CheckpointHook', 'interval': 1}, {'type': 'TextLoggerHook', 'interval': 1}, {'type': 'IterTimerHook'}, {'type': 'EvaluationHook', 'interval': 1}]}, 'evaluation': {'dataloader': {'batch_size_per_gpu': 1, 'workers_per_gpu': 1, 'shuffle': False}}}\n"
     ]
    },
    {
     "name": "stderr",
     "output_type": "stream",
     "text": [
      "Using custom data configuration huizheng-17bca89ad3d41ff8\n"
     ]
    },
    {
     "name": "stdout",
     "output_type": "stream",
     "text": [
      "Downloading and preparing dataset SIDD/huizheng to C:/Users/PC/.cache/modelscope/hub/datasets/huizheng/SIDD/master/meta/modelscope___dataset_builder/huizheng-17bca89ad3d41ff8/master/validation...\n"
     ]
    },
    {
     "data": {
      "application/vnd.jupyter.widget-view+json": {
       "model_id": "5f2a9b723c194caf86682a9ffd0e6a55",
       "version_major": 2,
       "version_minor": 0
      },
      "text/plain": [
       "Downloading data files:   0%|          | 0/1 [00:00<?, ?it/s]"
      ]
     },
     "metadata": {},
     "output_type": "display_data"
    },
    {
     "data": {
      "application/vnd.jupyter.widget-view+json": {
       "model_id": "b18bc2fd4ac44cafae3c4bb6cbcb388e",
       "version_major": 2,
       "version_minor": 0
      },
      "text/plain": [
       "Downloading data: 0.00B [00:00, ?B/s]"
      ]
     },
     "metadata": {},
     "output_type": "display_data"
    },
    {
     "data": {
      "application/vnd.jupyter.widget-view+json": {
       "model_id": "20afa67757df4c28a9075b80892587b4",
       "version_major": 2,
       "version_minor": 0
      },
      "text/plain": [
       "Extracting data files:   0%|          | 0/1 [00:00<?, ?it/s]"
      ]
     },
     "metadata": {},
     "output_type": "display_data"
    },
    {
     "data": {
      "application/vnd.jupyter.widget-view+json": {
       "model_id": "1f674a3cb4fd4e63beb6fdb365f9ccf6",
       "version_major": 2,
       "version_minor": 0
      },
      "text/plain": [
       "Downloading data files:   0%|          | 0/1 [00:00<?, ?it/s]"
      ]
     },
     "metadata": {},
     "output_type": "display_data"
    },
    {
     "name": "stdout",
     "output_type": "stream",
     "text": [
      "100% "
     ]
    },
    {
     "data": {
      "application/vnd.jupyter.widget-view+json": {
       "model_id": "a1b97df706fd46c98516632cb1b4394d",
       "version_major": 2,
       "version_minor": 0
      },
      "text/plain": [
       "Extracting data files:   0%|          | 0/1 [00:00<?, ?it/s]"
      ]
     },
     "metadata": {},
     "output_type": "display_data"
    },
    {
     "data": {
      "application/vnd.jupyter.widget-view+json": {
       "model_id": "",
       "version_major": 2,
       "version_minor": 0
      },
      "text/plain": [
       "Generating validation split: 0 examples [00:00, ? examples/s]"
      ]
     },
     "metadata": {},
     "output_type": "display_data"
    },
    {
     "name": "stdout",
     "output_type": "stream",
     "text": [
      "Dataset sidd downloaded and prepared to C:/Users/PC/.cache/modelscope/hub/datasets/huizheng/SIDD/master/meta/modelscope___dataset_builder/huizheng-17bca89ad3d41ff8/master/validation. Subsequent calls will reuse this data.\n"
     ]
    },
    {
     "data": {
      "application/vnd.jupyter.widget-view+json": {
       "model_id": "a54798f867744448a92f07e93f727757",
       "version_major": 2,
       "version_minor": 0
      },
      "text/plain": [
       "  0%|          | 0/1 [00:00<?, ?it/s]"
      ]
     },
     "metadata": {},
     "output_type": "display_data"
    },
    {
     "name": "stderr",
     "output_type": "stream",
     "text": [
      "Using custom data configuration huizheng-4a65db03db3fa651\n"
     ]
    },
    {
     "name": "stdout",
     "output_type": "stream",
     "text": [
      "Downloading and preparing dataset SIDD/huizheng to C:/Users/PC/.cache/modelscope/hub/datasets/huizheng/SIDD/master/meta/modelscope___dataset_builder/huizheng-4a65db03db3fa651/master/test...\n"
     ]
    },
    {
     "data": {
      "application/vnd.jupyter.widget-view+json": {
       "model_id": "bce072558d4e49118ea28a8c608b8ecc",
       "version_major": 2,
       "version_minor": 0
      },
      "text/plain": [
       "Downloading data files:   0%|          | 0/1 [00:00<?, ?it/s]"
      ]
     },
     "metadata": {},
     "output_type": "display_data"
    },
    {
     "data": {
      "application/vnd.jupyter.widget-view+json": {
       "model_id": "cadab287c622488b8feb0910558d9a07",
       "version_major": 2,
       "version_minor": 0
      },
      "text/plain": [
       "Downloading data: 0.00B [00:00, ?B/s]"
      ]
     },
     "metadata": {},
     "output_type": "display_data"
    },
    {
     "data": {
      "application/vnd.jupyter.widget-view+json": {
       "model_id": "f25829ec9e12484b946afc97e37a5c77",
       "version_major": 2,
       "version_minor": 0
      },
      "text/plain": [
       "Extracting data files:   0%|          | 0/1 [00:00<?, ?it/s]"
      ]
     },
     "metadata": {},
     "output_type": "display_data"
    },
    {
     "data": {
      "application/vnd.jupyter.widget-view+json": {
       "model_id": "272c7e64c56841eeb5f32ad188fa1c63",
       "version_major": 2,
       "version_minor": 0
      },
      "text/plain": [
       "Downloading data files:   0%|          | 0/1 [00:00<?, ?it/s]"
      ]
     },
     "metadata": {},
     "output_type": "display_data"
    },
    {
     "name": "stdout",
     "output_type": "stream",
     "text": [
      "100% "
     ]
    },
    {
     "data": {
      "application/vnd.jupyter.widget-view+json": {
       "model_id": "671b9a3dfe454ba888fe280166036738",
       "version_major": 2,
       "version_minor": 0
      },
      "text/plain": [
       "Extracting data files:   0%|          | 0/1 [00:00<?, ?it/s]"
      ]
     },
     "metadata": {},
     "output_type": "display_data"
    },
    {
     "data": {
      "application/vnd.jupyter.widget-view+json": {
       "model_id": "",
       "version_major": 2,
       "version_minor": 0
      },
      "text/plain": [
       "Generating test split: 0 examples [00:00, ? examples/s]"
      ]
     },
     "metadata": {},
     "output_type": "display_data"
    },
    {
     "name": "stdout",
     "output_type": "stream",
     "text": [
      "Dataset sidd downloaded and prepared to C:/Users/PC/.cache/modelscope/hub/datasets/huizheng/SIDD/master/meta/modelscope___dataset_builder/huizheng-4a65db03db3fa651/master/test. Subsequent calls will reuse this data.\n"
     ]
    },
    {
     "data": {
      "application/vnd.jupyter.widget-view+json": {
       "model_id": "dbcf39e7fa2b42669f298eab6798cd29",
       "version_major": 2,
       "version_minor": 0
      },
      "text/plain": [
       "  0%|          | 0/1 [00:00<?, ?it/s]"
      ]
     },
     "metadata": {},
     "output_type": "display_data"
    },
    {
     "name": "stderr",
     "output_type": "stream",
     "text": [
      "2023-04-29 18:43:57,496 - modelscope - INFO - Model revision not specified, use the latest revision: v1.0.0\n",
      "2023-04-29 18:44:00,762 - modelscope - INFO - Model revision not specified, use the latest revision: v1.0.0\n",
      "2023-04-29 18:44:04,428 - modelscope - INFO - Model revision not specified, use the latest revision: v1.0.0\n",
      "2023-04-29 18:44:07,388 - modelscope - INFO - initialize model from C:\\Users\\PC\\.cache\\modelscope\\hub\\damo\\cv_nafnet_image-denoise_sidd\n",
      "2023-04-29 18:44:07,699 - modelscope - INFO - Loading NAFNet model from C:\\Users\\PC\\.cache\\modelscope\\hub\\damo\\cv_nafnet_image-denoise_sidd\\pytorch_model.pt, with param key: [params].\n",
      "2023-04-29 18:44:07,830 - modelscope - INFO - load model done.\n",
      "2023-04-29 18:44:07,858 - modelscope - INFO - cuda is not available, using cpu instead.\n",
      "2023-04-29 18:44:07,859 - modelscope - INFO - ==========================Training Config Start==========================\n",
      "2023-04-29 18:44:07,860 - modelscope - INFO - {\n",
      "    \"framework\": \"pytorch\",\n",
      "    \"task\": \"image-denoising\",\n",
      "    \"pipeline\": {\n",
      "        \"type\": \"nafnet-image-denoise\"\n",
      "    },\n",
      "    \"model\": {\n",
      "        \"type\": \"nafnet\",\n",
      "        \"network_g\": {\n",
      "            \"img_channel\": 3,\n",
      "            \"width\": 32,\n",
      "            \"middle_blk_num\": 12,\n",
      "            \"enc_blk_nums\": [\n",
      "                2,\n",
      "                2,\n",
      "                4,\n",
      "                8\n",
      "            ],\n",
      "            \"dec_blk_nums\": [\n",
      "                2,\n",
      "                2,\n",
      "                2,\n",
      "                2\n",
      "            ]\n",
      "        }\n",
      "    },\n",
      "    \"dataset\": {\n",
      "        \"name\": \"SIDD\",\n",
      "        \"type\": \"PairedImageDataset\",\n",
      "        \"dataroot_gt\": \"data/SIDD_example/\",\n",
      "        \"dataroot_lq\": \"data/SIDD_example/\",\n",
      "        \"filename_tmpl\": \"{}\",\n",
      "        \"scale\": 1,\n",
      "        \"gt_size\": 256,\n",
      "        \"use_flip\": false,\n",
      "        \"use_rot\": false\n",
      "    },\n",
      "    \"preprocessor\": {\n",
      "        \"type\": \"image-denoise-preprocessor\"\n",
      "    },\n",
      "    \"train\": {\n",
      "        \"dataloader\": {\n",
      "            \"batch_size_per_gpu\": 2,\n",
      "            \"workers_per_gpu\": 4,\n",
      "            \"shuffle\": true\n",
      "        },\n",
      "        \"optimizer\": {\n",
      "            \"type\": \"AdamW\",\n",
      "            \"lr\": 1e-05,\n",
      "            \"weight_decay\": 0,\n",
      "            \"betas\": [\n",
      "                0.9,\n",
      "                0.9\n",
      "            ]\n",
      "        },\n",
      "        \"lr_scheduler\": {\n",
      "            \"type\": \"CosineAnnealingLR\",\n",
      "            \"T_max\": 200000,\n",
      "            \"eta_min\": 1e-07\n",
      "        },\n",
      "        \"max_epochs\": 1,\n",
      "        \"hooks\": [\n",
      "            {\n",
      "                \"type\": \"IterTimerHook\"\n",
      "            }\n",
      "        ],\n",
      "        \"checkpoint\": {\n",
      "            \"period\": {\n",
      "                \"interval\": 1\n",
      "            }\n",
      "        },\n",
      "        \"logging\": {\n",
      "            \"interval\": 1\n",
      "        },\n",
      "        \"work_dir\": \"./20230421\"\n",
      "    },\n",
      "    \"evaluation\": {\n",
      "        \"dataloader\": {\n",
      "            \"batch_size_per_gpu\": 1,\n",
      "            \"workers_per_gpu\": 1,\n",
      "            \"shuffle\": false\n",
      "        },\n",
      "        \"period\": {\n",
      "            \"interval\": 1\n",
      "        }\n",
      "    }\n",
      "}\n",
      "2023-04-29 18:44:07,865 - modelscope - INFO - ===========================Training Config End===========================\n",
      "2023-04-29 18:44:07,867 - modelscope - WARNING - ('OPTIMIZER', 'default', 'AdamW') not found in ast index file\n",
      "2023-04-29 18:44:07,870 - modelscope - WARNING - ('LR_SCHEDULER', 'default', 'CosineAnnealingLR') not found in ast index file\n",
      "2023-04-29 18:44:07,875 - modelscope - INFO - Stage: before_run:\n",
      "    (ABOVE_NORMAL) OptimizerHook                      \n",
      "    (LOW         ) LrSchedulerHook                    \n",
      "    (LOW         ) CheckpointHook                     \n",
      "    (VERY_LOW    ) TextLoggerHook                     \n",
      " -------------------- \n",
      "Stage: before_train_epoch:\n",
      "    (LOW         ) LrSchedulerHook                    \n",
      " -------------------- \n",
      "Stage: after_train_iter:\n",
      "    (ABOVE_NORMAL) OptimizerHook                      \n",
      "    (NORMAL      ) EvaluationHook                     \n",
      "    (LOW         ) LrSchedulerHook                    \n",
      "    (LOW         ) CheckpointHook                     \n",
      "    (VERY_LOW    ) TextLoggerHook                     \n",
      " -------------------- \n",
      "Stage: after_train_epoch:\n",
      "    (NORMAL      ) EvaluationHook                     \n",
      "    (LOW         ) LrSchedulerHook                    \n",
      "    (LOW         ) CheckpointHook                     \n",
      "    (VERY_LOW    ) TextLoggerHook                     \n",
      " -------------------- \n",
      "Stage: after_val_epoch:\n",
      "    (VERY_LOW    ) TextLoggerHook                     \n",
      " -------------------- \n",
      "Stage: after_run:\n",
      "    (LOW         ) CheckpointHook                     \n",
      " -------------------- \n",
      " --- Hook strategies info --- \n",
      "\n",
      " --- Hook strategies info end --- \n",
      "\n",
      "2023-04-29 18:44:08,115 - modelscope - INFO - Checkpoints will be saved to ./20230421\n",
      "2023-04-29 18:44:08,116 - modelscope - INFO - Text logs will be saved to ./20230421\n",
      "2023-04-29 18:44:35,542 - modelscope - INFO - epoch [1][1/512]\tlr: 1.000e-05, eta: 3:53:32, iter_time: 27.421, data_load_time: 17.180, loss: -28.1276\n",
      "2023-04-29 18:44:43,316 - modelscope - INFO - epoch [1][2/512]\tlr: 1.000e-05, eta: 2:29:34, iter_time: 7.774, data_load_time: 0.004, loss: -33.3378\n",
      "2023-04-29 18:44:51,256 - modelscope - INFO - epoch [1][3/512]\tlr: 1.000e-05, eta: 2:01:58, iter_time: 7.941, data_load_time: 0.003, loss: -35.2221\n",
      "2023-04-29 18:44:59,951 - modelscope - INFO - epoch [1][4/512]\tlr: 1.000e-05, eta: 1:49:42, iter_time: 8.696, data_load_time: 0.003, loss: -37.1173\n",
      "2023-04-29 18:45:08,627 - modelscope - INFO - epoch [1][5/512]\tlr: 1.000e-05, eta: 1:42:15, iter_time: 8.675, data_load_time: 0.005, loss: -32.4341\n",
      "2023-04-29 18:45:17,387 - modelscope - INFO - epoch [1][6/512]\tlr: 1.000e-05, eta: 1:37:21, iter_time: 8.760, data_load_time: 0.004, loss: -33.1474\n",
      "2023-04-29 18:45:26,024 - modelscope - INFO - epoch [1][7/512]\tlr: 1.000e-05, eta: 1:33:40, iter_time: 8.637, data_load_time: 0.004, loss: -35.6222\n",
      "2023-04-29 18:45:34,679 - modelscope - INFO - epoch [1][8/512]\tlr: 1.000e-05, eta: 1:30:53, iter_time: 8.655, data_load_time: 0.004, loss: -36.6159\n",
      "2023-04-29 18:45:43,396 - modelscope - INFO - epoch [1][9/512]\tlr: 1.000e-05, eta: 1:28:44, iter_time: 8.718, data_load_time: 0.004, loss: -36.4229\n",
      "2023-04-29 18:45:52,158 - modelscope - INFO - epoch [1][10/512]\tlr: 1.000e-05, eta: 1:27:02, iter_time: 8.763, data_load_time: 0.004, loss: -37.1786\n",
      "2023-04-29 18:46:00,907 - modelscope - INFO - epoch [1][11/512]\tlr: 1.000e-05, eta: 1:25:36, iter_time: 8.749, data_load_time: 0.003, loss: -32.2031\n",
      "2023-04-29 18:46:09,584 - modelscope - INFO - epoch [1][12/512]\tlr: 1.000e-05, eta: 1:24:20, iter_time: 8.677, data_load_time: 0.003, loss: -35.6370\n",
      "2023-04-29 18:46:18,286 - modelscope - INFO - epoch [1][13/512]\tlr: 1.000e-05, eta: 1:23:16, iter_time: 8.702, data_load_time: 0.005, loss: -35.0766\n",
      "2023-04-29 18:46:26,975 - modelscope - INFO - epoch [1][14/512]\tlr: 1.000e-05, eta: 1:22:19, iter_time: 8.689, data_load_time: 0.004, loss: -37.9260\n",
      "2023-04-29 18:46:35,721 - modelscope - INFO - epoch [1][15/512]\tlr: 1.000e-05, eta: 1:21:30, iter_time: 8.746, data_load_time: 0.003, loss: -37.4079\n",
      "2023-04-29 18:46:44,384 - modelscope - INFO - epoch [1][16/512]\tlr: 1.000e-05, eta: 1:20:44, iter_time: 8.663, data_load_time: 0.005, loss: -35.5429\n",
      "2023-04-29 18:46:53,080 - modelscope - INFO - epoch [1][17/512]\tlr: 1.000e-05, eta: 1:20:03, iter_time: 8.697, data_load_time: 0.005, loss: -34.7707\n",
      "2023-04-29 18:47:01,864 - modelscope - INFO - epoch [1][18/512]\tlr: 1.000e-05, eta: 1:19:28, iter_time: 8.784, data_load_time: 0.004, loss: -35.4145\n",
      "2023-04-29 18:47:10,570 - modelscope - INFO - epoch [1][19/512]\tlr: 1.000e-05, eta: 1:18:54, iter_time: 8.706, data_load_time: 0.004, loss: -35.7957\n",
      "2023-04-29 18:47:19,166 - modelscope - INFO - epoch [1][20/512]\tlr: 1.000e-05, eta: 1:18:19, iter_time: 8.595, data_load_time: 0.004, loss: -39.1020\n",
      "2023-04-29 18:47:27,883 - modelscope - INFO - epoch [1][21/512]\tlr: 1.000e-05, eta: 1:17:50, iter_time: 8.718, data_load_time: 0.004, loss: -35.6741\n",
      "2023-04-29 18:47:36,520 - modelscope - INFO - epoch [1][22/512]\tlr: 1.000e-05, eta: 1:17:21, iter_time: 8.637, data_load_time: 0.003, loss: -36.0823\n",
      "2023-04-29 18:47:45,183 - modelscope - INFO - epoch [1][23/512]\tlr: 1.000e-05, eta: 1:16:54, iter_time: 8.664, data_load_time: 0.004, loss: -39.2811\n",
      "2023-04-29 18:47:53,909 - modelscope - INFO - epoch [1][24/512]\tlr: 1.000e-05, eta: 1:16:31, iter_time: 8.725, data_load_time: 0.003, loss: -34.7034\n"
     ]
    },
    {
     "name": "stderr",
     "output_type": "stream",
     "text": [
      "2023-04-29 18:48:02,611 - modelscope - INFO - epoch [1][25/512]\tlr: 1.000e-05, eta: 1:16:07, iter_time: 8.703, data_load_time: 0.004, loss: -34.8559\n",
      "2023-04-29 18:48:11,303 - modelscope - INFO - epoch [1][26/512]\tlr: 1.000e-05, eta: 1:15:45, iter_time: 8.693, data_load_time: 0.004, loss: -37.7274\n",
      "2023-04-29 18:48:19,945 - modelscope - INFO - epoch [1][27/512]\tlr: 1.000e-05, eta: 1:15:23, iter_time: 8.642, data_load_time: 0.003, loss: -34.9774\n",
      "2023-04-29 18:48:28,687 - modelscope - INFO - epoch [1][28/512]\tlr: 1.000e-05, eta: 1:15:04, iter_time: 8.741, data_load_time: 0.003, loss: -39.4729\n",
      "2023-04-29 18:48:37,276 - modelscope - INFO - epoch [1][29/512]\tlr: 1.000e-05, eta: 1:14:42, iter_time: 8.590, data_load_time: 0.005, loss: -40.7719\n",
      "2023-04-29 18:48:45,956 - modelscope - INFO - epoch [1][30/512]\tlr: 1.000e-05, eta: 1:14:23, iter_time: 8.679, data_load_time: 0.003, loss: -40.7940\n",
      "2023-04-29 18:48:54,579 - modelscope - INFO - epoch [1][31/512]\tlr: 1.000e-05, eta: 1:14:04, iter_time: 8.624, data_load_time: 0.005, loss: -32.8196\n",
      "2023-04-29 18:49:03,108 - modelscope - INFO - epoch [1][32/512]\tlr: 1.000e-05, eta: 1:13:44, iter_time: 8.529, data_load_time: 0.004, loss: -39.3761\n",
      "2023-04-29 18:49:11,793 - modelscope - INFO - epoch [1][33/512]\tlr: 1.000e-05, eta: 1:13:27, iter_time: 8.685, data_load_time: 0.003, loss: -31.5981\n",
      "2023-04-29 18:49:20,472 - modelscope - INFO - epoch [1][34/512]\tlr: 1.000e-05, eta: 1:13:11, iter_time: 8.679, data_load_time: 0.004, loss: -35.4280\n",
      "2023-04-29 18:49:29,177 - modelscope - INFO - epoch [1][35/512]\tlr: 1.000e-05, eta: 1:12:55, iter_time: 8.705, data_load_time: 0.003, loss: -40.4581\n",
      "2023-04-29 18:49:37,878 - modelscope - INFO - epoch [1][36/512]\tlr: 1.000e-05, eta: 1:12:40, iter_time: 8.702, data_load_time: 0.004, loss: -38.9125\n",
      "2023-04-29 18:49:46,548 - modelscope - INFO - epoch [1][37/512]\tlr: 1.000e-05, eta: 1:12:24, iter_time: 8.669, data_load_time: 0.004, loss: -34.8993\n",
      "2023-04-29 18:49:55,160 - modelscope - INFO - epoch [1][38/512]\tlr: 1.000e-05, eta: 1:12:08, iter_time: 8.613, data_load_time: 0.004, loss: -30.1613\n",
      "2023-04-29 18:50:03,926 - modelscope - INFO - epoch [1][39/512]\tlr: 1.000e-05, eta: 1:11:55, iter_time: 8.767, data_load_time: 0.004, loss: -37.7562\n",
      "2023-04-29 18:50:12,705 - modelscope - INFO - epoch [1][40/512]\tlr: 1.000e-05, eta: 1:11:42, iter_time: 8.779, data_load_time: 0.004, loss: -36.8708\n",
      "2023-04-29 18:50:21,406 - modelscope - INFO - epoch [1][41/512]\tlr: 1.000e-05, eta: 1:11:28, iter_time: 8.700, data_load_time: 0.003, loss: -30.7742\n",
      "2023-04-29 18:50:30,129 - modelscope - INFO - epoch [1][42/512]\tlr: 1.000e-05, eta: 1:11:14, iter_time: 8.725, data_load_time: 0.004, loss: -36.4348\n",
      "2023-04-29 18:50:38,798 - modelscope - INFO - epoch [1][43/512]\tlr: 1.000e-05, eta: 1:11:01, iter_time: 8.669, data_load_time: 0.003, loss: -36.5244\n",
      "2023-04-29 18:50:47,465 - modelscope - INFO - epoch [1][44/512]\tlr: 1.000e-05, eta: 1:10:47, iter_time: 8.667, data_load_time: 0.004, loss: -38.4134\n",
      "2023-04-29 18:50:56,178 - modelscope - INFO - epoch [1][45/512]\tlr: 1.000e-05, eta: 1:10:34, iter_time: 8.712, data_load_time: 0.003, loss: -40.3383\n",
      "2023-04-29 18:51:04,782 - modelscope - INFO - epoch [1][46/512]\tlr: 1.000e-05, eta: 1:10:20, iter_time: 8.605, data_load_time: 0.004, loss: -37.1629\n",
      "2023-04-29 18:51:13,450 - modelscope - INFO - epoch [1][47/512]\tlr: 1.000e-05, eta: 1:10:08, iter_time: 8.669, data_load_time: 0.004, loss: -36.4912\n",
      "2023-04-29 18:51:22,124 - modelscope - INFO - epoch [1][48/512]\tlr: 1.000e-05, eta: 1:09:55, iter_time: 8.674, data_load_time: 0.004, loss: -33.3317\n",
      "2023-04-29 18:51:30,818 - modelscope - INFO - epoch [1][49/512]\tlr: 1.000e-05, eta: 1:09:43, iter_time: 8.694, data_load_time: 0.004, loss: -39.6263\n",
      "2023-04-29 18:51:39,512 - modelscope - INFO - epoch [1][50/512]\tlr: 1.000e-05, eta: 1:09:30, iter_time: 8.693, data_load_time: 0.002, loss: -36.1206\n",
      "2023-04-29 18:51:48,190 - modelscope - INFO - epoch [1][51/512]\tlr: 1.000e-05, eta: 1:09:18, iter_time: 8.679, data_load_time: 0.004, loss: -30.0883\n",
      "2023-04-29 18:51:56,943 - modelscope - INFO - epoch [1][52/512]\tlr: 1.000e-05, eta: 1:09:07, iter_time: 8.754, data_load_time: 0.003, loss: -42.5998\n",
      "2023-04-29 18:52:05,620 - modelscope - INFO - epoch [1][53/512]\tlr: 1.000e-05, eta: 1:08:55, iter_time: 8.677, data_load_time: 0.003, loss: -36.3953\n",
      "2023-04-29 18:52:14,365 - modelscope - INFO - epoch [1][54/512]\tlr: 1.000e-05, eta: 1:08:44, iter_time: 8.744, data_load_time: 0.004, loss: -35.6698\n",
      "2023-04-29 18:52:23,022 - modelscope - INFO - epoch [1][55/512]\tlr: 1.000e-05, eta: 1:08:32, iter_time: 8.658, data_load_time: 0.004, loss: -38.5097\n",
      "2023-04-29 18:52:31,632 - modelscope - INFO - epoch [1][56/512]\tlr: 1.000e-05, eta: 1:08:20, iter_time: 8.610, data_load_time: 0.009, loss: -36.6988\n",
      "2023-04-29 18:52:40,356 - modelscope - INFO - epoch [1][57/512]\tlr: 1.000e-05, eta: 1:08:08, iter_time: 8.725, data_load_time: 0.004, loss: -36.7322\n",
      "2023-04-29 18:52:49,047 - modelscope - INFO - epoch [1][58/512]\tlr: 1.000e-05, eta: 1:07:57, iter_time: 8.691, data_load_time: 0.004, loss: -36.4653\n",
      "2023-04-29 18:52:57,711 - modelscope - INFO - epoch [1][59/512]\tlr: 1.000e-05, eta: 1:07:46, iter_time: 8.664, data_load_time: 0.004, loss: -37.2797\n",
      "2023-04-29 18:53:06,438 - modelscope - INFO - epoch [1][60/512]\tlr: 1.000e-05, eta: 1:07:35, iter_time: 8.728, data_load_time: 0.005, loss: -32.2452\n",
      "2023-04-29 18:53:15,155 - modelscope - INFO - epoch [1][61/512]\tlr: 1.000e-05, eta: 1:07:24, iter_time: 8.716, data_load_time: 0.003, loss: -35.7232\n",
      "2023-04-29 18:53:23,902 - modelscope - INFO - epoch [1][62/512]\tlr: 1.000e-05, eta: 1:07:13, iter_time: 8.747, data_load_time: 0.004, loss: -37.4728\n",
      "2023-04-29 18:53:32,550 - modelscope - INFO - epoch [1][63/512]\tlr: 1.000e-05, eta: 1:07:02, iter_time: 8.650, data_load_time: 0.005, loss: -36.8324\n",
      "2023-04-29 18:53:41,246 - modelscope - INFO - epoch [1][64/512]\tlr: 1.000e-05, eta: 1:06:51, iter_time: 8.696, data_load_time: 0.003, loss: -30.2664\n",
      "2023-04-29 18:53:49,950 - modelscope - INFO - epoch [1][65/512]\tlr: 1.000e-05, eta: 1:06:41, iter_time: 8.704, data_load_time: 0.004, loss: -36.1025\n",
      "2023-04-29 18:53:58,562 - modelscope - INFO - epoch [1][66/512]\tlr: 1.000e-05, eta: 1:06:29, iter_time: 8.612, data_load_time: 0.004, loss: -40.9022\n",
      "2023-04-29 18:54:07,189 - modelscope - INFO - epoch [1][67/512]\tlr: 1.000e-05, eta: 1:06:18, iter_time: 8.627, data_load_time: 0.003, loss: -30.3235\n",
      "2023-04-29 18:54:15,933 - modelscope - INFO - epoch [1][68/512]\tlr: 1.000e-05, eta: 1:06:08, iter_time: 8.745, data_load_time: 0.004, loss: -36.1829\n",
      "2023-04-29 18:54:24,664 - modelscope - INFO - epoch [1][69/512]\tlr: 1.000e-05, eta: 1:05:58, iter_time: 8.731, data_load_time: 0.004, loss: -43.3177\n",
      "2023-04-29 18:54:33,341 - modelscope - INFO - epoch [1][70/512]\tlr: 1.000e-05, eta: 1:05:47, iter_time: 8.677, data_load_time: 0.004, loss: -38.7647\n",
      "2023-04-29 18:54:42,021 - modelscope - INFO - epoch [1][71/512]\tlr: 1.000e-05, eta: 1:05:37, iter_time: 8.680, data_load_time: 0.003, loss: -33.6119\n",
      "2023-04-29 18:54:50,642 - modelscope - INFO - epoch [1][72/512]\tlr: 1.000e-05, eta: 1:05:26, iter_time: 8.621, data_load_time: 0.004, loss: -36.1834\n",
      "2023-04-29 18:54:59,357 - modelscope - INFO - epoch [1][73/512]\tlr: 1.000e-05, eta: 1:05:16, iter_time: 8.715, data_load_time: 0.004, loss: -37.4734\n",
      "2023-04-29 18:55:08,024 - modelscope - INFO - epoch [1][74/512]\tlr: 1.000e-05, eta: 1:05:05, iter_time: 8.668, data_load_time: 0.004, loss: -33.8336\n",
      "2023-04-29 18:55:16,669 - modelscope - INFO - epoch [1][75/512]\tlr: 1.000e-05, eta: 1:04:55, iter_time: 8.645, data_load_time: 0.004, loss: -32.8332\n",
      "2023-04-29 18:55:25,320 - modelscope - INFO - epoch [1][76/512]\tlr: 1.000e-05, eta: 1:04:44, iter_time: 8.651, data_load_time: 0.004, loss: -39.3120\n",
      "2023-04-29 18:55:34,027 - modelscope - INFO - epoch [1][77/512]\tlr: 1.000e-05, eta: 1:04:34, iter_time: 8.707, data_load_time: 0.004, loss: -41.5107\n",
      "2023-04-29 18:55:42,665 - modelscope - INFO - epoch [1][78/512]\tlr: 1.000e-05, eta: 1:04:24, iter_time: 8.638, data_load_time: 0.004, loss: -34.4974\n",
      "2023-04-29 18:55:51,329 - modelscope - INFO - epoch [1][79/512]\tlr: 1.000e-05, eta: 1:04:14, iter_time: 8.665, data_load_time: 0.004, loss: -44.5939\n"
     ]
    },
    {
     "name": "stderr",
     "output_type": "stream",
     "text": [
      "2023-04-29 18:56:00,128 - modelscope - INFO - epoch [1][80/512]\tlr: 1.000e-05, eta: 1:04:04, iter_time: 8.798, data_load_time: 0.003, loss: -39.3735\n",
      "2023-04-29 18:56:08,941 - modelscope - INFO - epoch [1][81/512]\tlr: 1.000e-05, eta: 1:03:55, iter_time: 8.813, data_load_time: 0.004, loss: -34.9214\n",
      "2023-04-29 18:56:17,746 - modelscope - INFO - epoch [1][82/512]\tlr: 1.000e-05, eta: 1:03:46, iter_time: 8.804, data_load_time: 0.004, loss: -40.2154\n",
      "2023-04-29 18:56:26,519 - modelscope - INFO - epoch [1][83/512]\tlr: 1.000e-05, eta: 1:03:36, iter_time: 8.774, data_load_time: 0.003, loss: -36.1355\n",
      "2023-04-29 18:56:35,383 - modelscope - INFO - epoch [1][84/512]\tlr: 1.000e-05, eta: 1:03:27, iter_time: 8.863, data_load_time: 0.003, loss: -36.0758\n",
      "2023-04-29 18:56:44,055 - modelscope - INFO - epoch [1][85/512]\tlr: 1.000e-05, eta: 1:03:17, iter_time: 8.672, data_load_time: 0.004, loss: -35.0819\n",
      "2023-04-29 18:56:52,730 - modelscope - INFO - epoch [1][86/512]\tlr: 1.000e-05, eta: 1:03:07, iter_time: 8.675, data_load_time: 0.004, loss: -41.2988\n",
      "2023-04-29 18:57:01,593 - modelscope - INFO - epoch [1][87/512]\tlr: 1.000e-05, eta: 1:02:58, iter_time: 8.864, data_load_time: 0.004, loss: -31.6871\n",
      "2023-04-29 18:57:10,398 - modelscope - INFO - epoch [1][88/512]\tlr: 1.000e-05, eta: 1:02:49, iter_time: 8.803, data_load_time: 0.004, loss: -41.5126\n",
      "2023-04-29 18:57:19,120 - modelscope - INFO - epoch [1][89/512]\tlr: 1.000e-05, eta: 1:02:39, iter_time: 8.723, data_load_time: 0.003, loss: -38.4522\n",
      "2023-04-29 18:57:27,768 - modelscope - INFO - epoch [1][90/512]\tlr: 1.000e-05, eta: 1:02:29, iter_time: 8.648, data_load_time: 0.003, loss: -35.4442\n",
      "2023-04-29 18:57:36,454 - modelscope - INFO - epoch [1][91/512]\tlr: 1.000e-05, eta: 1:02:19, iter_time: 8.686, data_load_time: 0.004, loss: -39.1914\n",
      "2023-04-29 18:57:45,158 - modelscope - INFO - epoch [1][92/512]\tlr: 1.000e-05, eta: 1:02:09, iter_time: 8.704, data_load_time: 0.004, loss: -33.0023\n",
      "2023-04-29 18:57:53,831 - modelscope - INFO - epoch [1][93/512]\tlr: 1.000e-05, eta: 1:02:00, iter_time: 8.674, data_load_time: 0.004, loss: -39.7209\n",
      "2023-04-29 18:58:02,599 - modelscope - INFO - epoch [1][94/512]\tlr: 1.000e-05, eta: 1:01:50, iter_time: 8.769, data_load_time: 0.004, loss: -39.2130\n",
      "2023-04-29 18:58:11,207 - modelscope - INFO - epoch [1][95/512]\tlr: 1.000e-05, eta: 1:01:40, iter_time: 8.608, data_load_time: 0.003, loss: -38.8661\n",
      "2023-04-29 18:58:20,021 - modelscope - INFO - epoch [1][96/512]\tlr: 1.000e-05, eta: 1:01:31, iter_time: 8.812, data_load_time: 0.003, loss: -34.7071\n",
      "2023-04-29 18:58:28,735 - modelscope - INFO - epoch [1][97/512]\tlr: 1.000e-05, eta: 1:01:22, iter_time: 8.716, data_load_time: 0.004, loss: -41.9443\n",
      "2023-04-29 18:58:37,420 - modelscope - INFO - epoch [1][98/512]\tlr: 1.000e-05, eta: 1:01:12, iter_time: 8.685, data_load_time: 0.003, loss: -36.9885\n",
      "2023-04-29 18:58:46,106 - modelscope - INFO - epoch [1][99/512]\tlr: 1.000e-05, eta: 1:01:02, iter_time: 8.686, data_load_time: 0.004, loss: -33.6126\n",
      "2023-04-29 18:58:54,689 - modelscope - INFO - epoch [1][100/512]\tlr: 1.000e-05, eta: 1:00:52, iter_time: 8.583, data_load_time: 0.004, loss: -39.3765\n",
      "2023-04-29 18:59:03,404 - modelscope - INFO - epoch [1][101/512]\tlr: 1.000e-05, eta: 1:00:43, iter_time: 8.715, data_load_time: 0.004, loss: -39.7466\n",
      "2023-04-29 18:59:12,085 - modelscope - INFO - epoch [1][102/512]\tlr: 1.000e-05, eta: 1:00:33, iter_time: 8.680, data_load_time: 0.003, loss: -40.1204\n",
      "2023-04-29 18:59:20,727 - modelscope - INFO - epoch [1][103/512]\tlr: 1.000e-05, eta: 1:00:23, iter_time: 8.644, data_load_time: 0.004, loss: -37.5475\n",
      "2023-04-29 18:59:29,426 - modelscope - INFO - epoch [1][104/512]\tlr: 1.000e-05, eta: 1:00:14, iter_time: 8.699, data_load_time: 0.003, loss: -38.3780\n",
      "2023-04-29 18:59:38,135 - modelscope - INFO - epoch [1][105/512]\tlr: 1.000e-05, eta: 1:00:04, iter_time: 8.709, data_load_time: 0.003, loss: -35.1813\n",
      "2023-04-29 18:59:46,773 - modelscope - INFO - epoch [1][106/512]\tlr: 1.000e-05, eta: 0:59:55, iter_time: 8.637, data_load_time: 0.004, loss: -41.3984\n",
      "2023-04-29 18:59:55,535 - modelscope - INFO - epoch [1][107/512]\tlr: 1.000e-05, eta: 0:59:46, iter_time: 8.763, data_load_time: 0.004, loss: -38.1426\n",
      "2023-04-29 19:00:04,234 - modelscope - INFO - epoch [1][108/512]\tlr: 1.000e-05, eta: 0:59:36, iter_time: 8.700, data_load_time: 0.004, loss: -31.9626\n",
      "2023-04-29 19:00:12,836 - modelscope - INFO - epoch [1][109/512]\tlr: 1.000e-05, eta: 0:59:26, iter_time: 8.602, data_load_time: 0.003, loss: -38.9031\n",
      "2023-04-29 19:00:21,579 - modelscope - INFO - epoch [1][110/512]\tlr: 1.000e-05, eta: 0:59:17, iter_time: 8.742, data_load_time: 0.004, loss: -45.7972\n",
      "2023-04-29 19:00:30,236 - modelscope - INFO - epoch [1][111/512]\tlr: 1.000e-05, eta: 0:59:07, iter_time: 8.657, data_load_time: 0.004, loss: -32.8693\n",
      "2023-04-29 19:00:39,454 - modelscope - INFO - epoch [1][112/512]\tlr: 1.000e-05, eta: 0:59:00, iter_time: 9.219, data_load_time: 0.004, loss: -37.2403\n",
      "2023-04-29 19:00:48,582 - modelscope - INFO - epoch [1][113/512]\tlr: 1.000e-05, eta: 0:58:52, iter_time: 9.128, data_load_time: 0.003, loss: -36.4026\n",
      "2023-04-29 19:00:57,634 - modelscope - INFO - epoch [1][114/512]\tlr: 1.000e-05, eta: 0:58:44, iter_time: 9.052, data_load_time: 0.003, loss: -37.7173\n",
      "2023-04-29 19:01:06,352 - modelscope - INFO - epoch [1][115/512]\tlr: 1.000e-05, eta: 0:58:35, iter_time: 8.718, data_load_time: 0.005, loss: -48.7278\n",
      "2023-04-29 19:01:14,944 - modelscope - INFO - epoch [1][116/512]\tlr: 1.000e-05, eta: 0:58:25, iter_time: 8.593, data_load_time: 0.004, loss: -34.0458\n",
      "2023-04-29 19:01:24,038 - modelscope - INFO - epoch [1][117/512]\tlr: 1.000e-05, eta: 0:58:17, iter_time: 9.094, data_load_time: 0.004, loss: -36.5863\n",
      "2023-04-29 19:01:33,574 - modelscope - INFO - epoch [1][118/512]\tlr: 1.000e-05, eta: 0:58:10, iter_time: 9.536, data_load_time: 0.003, loss: -41.8881\n",
      "2023-04-29 19:01:43,236 - modelscope - INFO - epoch [1][119/512]\tlr: 1.000e-05, eta: 0:58:04, iter_time: 9.663, data_load_time: 0.004, loss: -38.1046\n",
      "2023-04-29 19:01:52,937 - modelscope - INFO - epoch [1][120/512]\tlr: 1.000e-05, eta: 0:57:58, iter_time: 9.699, data_load_time: 0.004, loss: -40.3686\n",
      "2023-04-29 19:02:02,466 - modelscope - INFO - epoch [1][121/512]\tlr: 1.000e-05, eta: 0:57:51, iter_time: 9.530, data_load_time: 0.005, loss: -43.6525\n",
      "2023-04-29 19:02:12,263 - modelscope - INFO - epoch [1][122/512]\tlr: 1.000e-05, eta: 0:57:45, iter_time: 9.798, data_load_time: 0.007, loss: -31.6810\n"
     ]
    }
   ],
   "source": [
    "import os\n",
    "import tempfile\n",
    "\n",
    "from modelscope.hub.snapshot_download import snapshot_download\n",
    "from modelscope.msdatasets import MsDataset\n",
    "from modelscope.msdatasets.task_datasets.sidd_image_denoising import \\\n",
    "    SiddImageDenoisingDataset\n",
    "from modelscope.trainers import build_trainer\n",
    "from modelscope.utils.config import Config\n",
    "from modelscope.utils.constant import DownloadMode, ModelFile\n",
    "\n",
    "tmp_dir = './20230421'\n",
    "if not os.path.exists(tmp_dir):  # 创建工作目录\n",
    "    os.makedirs(tmp_dir)\n",
    "model_id = 'damo/cv_nafnet_image-denoise_sidd'  # model_id\n",
    "cache_path = snapshot_download(model_id, cache_dir='original')  # 下载模型文件、配置文件\n",
    "config = Config.from_file(\n",
    "    os.path.join(cache_path, ModelFile.CONFIGURATION))  # 读取配置文件\n",
    "print(config)\n",
    "\n",
    "# 修改配置文件\n",
    "def cfg_modify_fn(cfg):\n",
    "    cfg.train.dataloader.batch_size_per_gpu = 2  # batch size\n",
    "    cfg.train.dataloader.workers_per_gpu = 4\n",
    "    \n",
    "    cfg.train.max_epochs = 1  # 最大的epoch数\n",
    "    cfg.train.optimizer.lr = 1e-5  # 学习率\n",
    "    return cfg\n",
    "\n",
    "# 加载数据集\n",
    "dataset_train = MsDataset.load(\n",
    "    'SIDD',\n",
    "    namespace='huizheng',\n",
    "    subset_name='default',\n",
    "    split='validation',\n",
    "    download_mode=DownloadMode.REUSE_DATASET_IF_EXISTS)._hf_ds  # 从modelscope hub 下载数据\n",
    "dataset_val = MsDataset.load(\n",
    "    'SIDD',\n",
    "    namespace='huizheng',\n",
    "    subset_name='default',\n",
    "    split='test',\n",
    "    download_mode=DownloadMode.REUSE_DATASET_IF_EXISTS)._hf_ds  # 从modelscope hub下载数据\n",
    "\n",
    "dataset_train = SiddImageDenoisingDataset(\n",
    "            dataset_train, config.dataset, is_train=True)  # 转为标准的pytorch map-style 数据集\n",
    "dataset_val = SiddImageDenoisingDataset(\n",
    "    dataset_val, config.dataset, is_train=False)\n",
    "\n",
    "kwargs = dict(\n",
    "    model=model_id,\n",
    "    train_dataset=dataset_train,\n",
    "    eval_dataset=dataset_val,\n",
    "    work_dir=tmp_dir, # 工作目录\n",
    "    cfg_modify_fn=cfg_modify_fn)\n",
    "trainer = build_trainer(default_args=kwargs)\n",
    "trainer.train()"
   ]
  },
  {
   "cell_type": "code",
   "execution_count": null,
   "id": "da6bb82c-c6dc-4446-a9af-b615c8ecbbde",
   "metadata": {},
   "outputs": [],
   "source": [
    "评估"
   ]
  },
  {
   "cell_type": "code",
   "execution_count": null,
   "id": "5e6c34c1-c857-486c-a479-793ceb18096b",
   "metadata": {},
   "outputs": [],
   "source": [
    "import os\n",
    "import tempfile\n",
    "import torch\n",
    "\n",
    "from modelscope.hub.snapshot_download import snapshot_download\n",
    "from modelscope.utils.config import Config\n",
    "from modelscope.utils.constant import DownloadMode, ModelFile\n",
    "from modelscope.trainers import build_trainer\n",
    "from modelscope.msdatasets import MsDataset\n",
    "from modelscope.msdatasets.task_datasets.sidd_image_denoising import \\\n",
    "    SiddImageDenoisingDataset\n",
    "\n",
    "# 工作目录中包含model card中的所有文件（包括配置文件、模型文件）\n",
    "tmp_dir = './20230421/output/'  # 如果训练过程中的工作目录为`./image_denoise/`，那么验证时的工作目录需要改为 './image_denoise/output/'\n",
    "if not os.path.exists(tmp_dir):\n",
    "    os.makedirs(tmp_dir)\n",
    "model_id = 'damo/cv_nafnet_image-denoise_sidd'\n",
    "# cache_path = snapshot_download(model_id)\n",
    "# config = Config.from_file(\n",
    "#     os.path.join(cache_path, ModelFile.CONFIGURATION))\n",
    "\n",
    "# 因为cv_nafnet_image-denoise_sidd模型使用modelscope的trainer类进行训练，其自动保存的模型中每一层的关键字都会有一个`model.`的前缀，\n",
    "# 我们需要在这里去掉这个前缀。\n",
    "# 修改 tmp_dir/epoch_1.pth 或 tmp_dir/output/pytorch_model.pt 为模型能够直接加载的文件\n",
    "def modify_checkpoint(ckpt_path, saved_path):\n",
    "    input_ckpt = torch.load(ckpt_path)\n",
    "    \n",
    "    pretrained_dict = {k.replace('model.', ''): v for k, v in input_ckpt.items() if k.startswith('model.')}\n",
    "    torch.save(pretrained_dict, saved_path)\n",
    "    print('successly convert checkpoint!')\n",
    "\n",
    "modify_checkpoint(tmp_dir+'pytorch_model.pt', tmp_dir+'pytorch_model.pt')\n",
    "\n",
    "dataset_val = MsDataset.load(\n",
    "    'SIDD',\n",
    "    namespace='huizheng',\n",
    "    subset_name='default',\n",
    "    split='test',\n",
    "    download_mode=DownloadMode.REUSE_DATASET_IF_EXISTS)._hf_ds\n",
    "eval_dataset = SiddImageDenoisingDataset(\n",
    "            dataset_val, config.dataset, is_train=False)\n",
    "kwargs = dict(\n",
    "    model=tmp_dir,  # 可指定为模型所谓目录，例如 tmp_dir\n",
    "    train_dataset=None,\n",
    "    eval_dataset=eval_dataset,\n",
    "    work_dir=tmp_dir)\n",
    "trainer = build_trainer(default_args=kwargs)\n",
    "metric_values = trainer.evaluate()\n",
    "print(metric_values)"
   ]
  },
  {
   "cell_type": "code",
   "execution_count": null,
   "id": "2238cfe3-68de-42a0-8b97-621638d5a14c",
   "metadata": {},
   "outputs": [],
   "source": [
    "测试图片"
   ]
  },
  {
   "cell_type": "code",
   "execution_count": 1,
   "id": "9c2a594d-2396-4efa-b59e-2c616fe79576",
   "metadata": {},
   "outputs": [
    {
     "name": "stderr",
     "output_type": "stream",
     "text": [
      "2023-04-22 19:08:39,389 - modelscope - INFO - PyTorch version 1.11.0+cu113 Found.\n",
      "2023-04-22 19:08:39,395 - modelscope - INFO - Loading ast index from /mnt/workspace/.cache/modelscope/ast_indexer\n",
      "2023-04-22 19:08:39,471 - modelscope - INFO - No valid ast index found from /mnt/workspace/.cache/modelscope/ast_indexer, generating ast index from prebuilt!\n",
      "2023-04-22 19:08:39,525 - modelscope - INFO - Loading done! Current index file version is 1.5.0, with md5 ca25ccc146d421f40d58ac06319b4460 and a total number of 860 components indexed\n",
      "2023-04-22 19:08:40,814 - modelscope - INFO - initiate model from ./20230421/output/\n",
      "2023-04-22 19:08:40,819 - modelscope - INFO - initiate model from location ./20230421/output/.\n",
      "2023-04-22 19:08:40,830 - modelscope - INFO - initialize model from ./20230421/output/\n",
      "2023-04-22 19:08:41,605 - modelscope - INFO - Loading NAFNet model from ./20230421/output/pytorch_model.pt, with param key: [params].\n",
      "2023-04-22 19:08:41,725 - modelscope - INFO - load model done.\n",
      "2023-04-22 19:08:41,760 - modelscope - INFO - load image denoise model done\n"
     ]
    },
    {
     "data": {
      "text/plain": [
       "True"
      ]
     },
     "execution_count": 1,
     "metadata": {},
     "output_type": "execute_result"
    }
   ],
   "source": [
    "from modelscope.pipelines import pipeline\n",
    "from modelscope.utils.constant import Tasks\n",
    "from modelscope.outputs import OutputKeys\n",
    "from modelscope.pipelines.cv import ImageDenoisePipeline\n",
    "import cv2\n",
    "\n",
    "img = 'https://modelscope.oss-cn-beijing.aliyuncs.com/test/images/noisy-demo-0.png'\n",
    "# image_denoise_pipeline = pipeline(Tasks.image_denoising, 'damo/cv_nafnet_image-denoise_sidd')\n",
    "# image_denoise_pipeline = pipeline(Tasks.image_denoising, './20230421/output/')\n",
    "image_denoise_pipeline = ImageDenoisePipeline('./20230421/output/')\n",
    "result = image_denoise_pipeline(img)[OutputKeys.OUTPUT_IMG]\n",
    "cv2.imwrite('0421_result2.png', result)"
   ]
  },
  {
   "cell_type": "code",
   "execution_count": null,
   "id": "c4ed995b-9f3b-4a9f-a631-48d0b8e71a16",
   "metadata": {},
   "outputs": [],
   "source": []
  }
 ],
 "metadata": {
  "kernelspec": {
   "display_name": "Python 3 (ipykernel)",
   "language": "python",
   "name": "python3"
  },
  "language_info": {
   "codemirror_mode": {
    "name": "ipython",
    "version": 3
   },
   "file_extension": ".py",
   "mimetype": "text/x-python",
   "name": "python",
   "nbconvert_exporter": "python",
   "pygments_lexer": "ipython3",
   "version": "3.9.13"
  }
 },
 "nbformat": 4,
 "nbformat_minor": 5
}
